{
 "cells": [
  {
   "cell_type": "markdown",
   "id": "a96c0510",
   "metadata": {},
   "source": [
    "# <span style=\"color: #C95B0E;\"> Function to Creating an array of square vertices in the Pythagorean tree. <br>No loops or recursion as needed, while using NumPy.</span>"
   ]
  },
  {
   "cell_type": "code",
   "execution_count": 1,
   "id": "d07f359b",
   "metadata": {},
   "outputs": [],
   "source": [
    "import numpy as np\n",
    "import cv2 as cv"
   ]
  },
  {
   "cell_type": "code",
   "execution_count": 2,
   "id": "c84489d6",
   "metadata": {},
   "outputs": [],
   "source": [
    "# Function to Return an array of square vertices in a Pythagorean tree\n",
    "\n",
    "def draw_pythagorean_tree(x, y, side, fi, alfa, deep):\n",
    "    \"\"\"\n",
    "    Parameters:\n",
    "    - x, y: Coordinates of the starting point for drawing the current square.\n",
    "    - side: Length of the current square.\n",
    "    - fi: Initial angle of the current branch up is pi/2(90 degrees).\n",
    "    - alfa: Angle between the branches(pi/2 is isosceles right triangle).\n",
    "    - deep: Depth or recursion level, indicating how many more levels of branches to draw.\n",
    "    \"\"\"\n",
    "    squares = []  # List to store the vertices of squares representing branches\n",
    "    stack = [(x, y, side, fi, alfa, deep)]  # Stack to simulate recursion with iterative approach\n",
    "\n",
    "    while stack:\n",
    "        x, y, side, fi, alfa, deep = stack.pop()\n",
    "\n",
    "        # Calculate the displacement along the x and y axes based on the current angle and side length\n",
    "        dx = side * np.sin(fi)\n",
    "        dy = side * np.cos(fi)\n",
    "\n",
    "        # Calculate the coordinates of the four vertices of the square representing the current branch\n",
    "        x1, y1 = x + dx, y - dy\n",
    "        x2, y2 = x + dx - dy, y - dy - dx\n",
    "        x3, y3 = x - dy, y - dx\n",
    "        x4, y4 = x - dy + side * np.cos(alfa) * np.sin(fi - alfa), y - dx - side * np.cos(alfa) * np.cos(fi - alfa)\n",
    "\n",
    "        # Store the vertices of the square in the 'squares' list\n",
    "        squares.append(np.array([[x, y], [x1, y1], [x2, y2], [x3, y3]], np.int32).reshape((-1, 1, 2)))\n",
    "\n",
    "        # If the recursion depth is greater than 1, calculate parameters for the next iteration and push onto the stack\n",
    "        if deep > 1:\n",
    "            stack.append((x4, y4, side * np.sin(alfa), fi - alfa + np.pi / 2, alfa, deep - 1))\n",
    "            stack.append((x3, y3, side * np.cos(alfa), fi - alfa, alfa, deep - 1))\n",
    "\n",
    "    return squares\n",
    "\n"
   ]
  },
  {
   "cell_type": "markdown",
   "id": "baa021c2",
   "metadata": {},
   "source": [
    "# We will create the arrays of squares tree using the function:"
   ]
  },
  {
   "cell_type": "code",
   "execution_count": 3,
   "id": "8f8f7ad9",
   "metadata": {},
   "outputs": [],
   "source": [
    "def tree(x, y, side, deep, fi= np.pi/2, alfa=np.pi/5):\n",
    "    squares = draw_pythagorean_tree(x , y , side, fi , alfa , deep)\n",
    "    return squares"
   ]
  },
  {
   "cell_type": "markdown",
   "id": "3834f294",
   "metadata": {},
   "source": [
    "# Drawing using OpenCV"
   ]
  },
  {
   "cell_type": "markdown",
   "id": "9a724cdd",
   "metadata": {},
   "source": [
    "## The painting:"
   ]
  },
  {
   "cell_type": "code",
   "execution_count": 4,
   "id": "14751557",
   "metadata": {},
   "outputs": [],
   "source": [
    "# img size (blak)\n",
    "def gred(width,height):\n",
    "    # Create a black image (3 for rgb bat in OpenCV bgr)\n",
    "    img = np.zeros((height, width, 3), dtype=np.uint8)\n",
    "    return img"
   ]
  },
  {
   "cell_type": "markdown",
   "id": "d0ad7547",
   "metadata": {},
   "source": [
    "## moon or sun \n"
   ]
  },
  {
   "cell_type": "code",
   "execution_count": 5,
   "id": "4ae89ab2",
   "metadata": {},
   "outputs": [],
   "source": [
    "# moon (moon size and glow and position) and star parmeter disid dansate of stars and size of big stars\n",
    "def moon(img,MoonSize=55,MoonGlow=75,moonCen=(700, 225),bigStarR= 7):\n",
    "    \n",
    "    # Draw random stars\n",
    "    for i in range(bigStarR):\n",
    "        star_x = np.random.randint(0, width, size=50)\n",
    "        star_y = np.random.randint(0, Skyline, size=50)\n",
    "        img[star_y, star_x] = (255-i, 255-2*i, 255-1.5*i)\n",
    "    # big stars\n",
    "    for center, num in [((960, 79), bigStarR), ((1345, 240), bigStarR), ((205, 52), bigStarR)]:\n",
    "        for r in range(11, 4, -1):\n",
    "            color_ratio = (11 - r) / bigStarR\n",
    "            color = (int(color_ratio * 255), int(color_ratio * 255), int(color_ratio * 255))\n",
    "            cv.circle(img, center, num, color, -1)\n",
    "            num -= 1\n",
    "            \n",
    "    # Draw the Moon glow\n",
    "    for r in range(MoonGlow, MoonGlow-30, -1):  # Radius for the halo\n",
    "        color_ratio = (MoonGlow - r) / 30  # Interpolate from white to black\n",
    "        color = (\n",
    "            int(color_ratio * 255),  \n",
    "            int(color_ratio * 255),  \n",
    "            int(color_ratio * 255)   \n",
    "        )\n",
    "        cv.circle(img, moonCen, r, color, -1)\n",
    "    # Draw the Moon\n",
    "    cv.circle(img, moonCen, MoonSize, (255, 255, 255), -1)\n",
    "    cv.circle(img, moonCen, MoonSize-10, (245, 255, 255), -1)\n",
    "    \n",
    "    \n",
    "def sun (img,MoonSize=75,MoonGlow=75,moonCen=(340, 125)):\n",
    "    \n",
    "    # Draw the ######## glow\n",
    "    for r in range(MoonGlow, MoonGlow+30, -1):  # Radius for the halo\n",
    "        color_ratio = (MoonGlow + r) / 30  # Interpolate from white to black\n",
    "        color = (\n",
    "            int(color_ratio * 255),  \n",
    "            int(color_ratio * 255),  \n",
    "            int(color_ratio * 255)   \n",
    "        )\n",
    "        cv.circle(img, moonCen, r, color, -1)\n",
    "    # Draw the sun\n",
    "    for i in range(int(MoonSize%10)):\n",
    "        cv.circle(img, moonCen, MoonSize-i**2, (153+i*10,240+i/5,250), -1) #(250,219,68)\n"
   ]
  },
  {
   "cell_type": "code",
   "execution_count": 6,
   "id": "9868399e",
   "metadata": {},
   "outputs": [],
   "source": [
    "#View day or nait? Skyline hight ,how many big star (day = 0) ,moon (moon size , glow  and position)\n",
    "def View(img,day= False,Skyline= 361):\n",
    "    height = img.shape[0]\n",
    "    width = img.shape[1]\n",
    "    if day == True :\n",
    "        # Day color \n",
    "        color = (250, 240, 153)\n",
    "        # Draw background of the day\n",
    "        cv.rectangle(img, (0, 0), (width, Skyline), color, -1)\n",
    "        a = sun(img)\n",
    "        # Draw Tree with gradual color change 2\n",
    "        for i, sq in enumerate(squares):\n",
    "                # Calculate color ratio based on the index\n",
    "            color_ratio = ( i) / len(squares)\n",
    "\n",
    "            # Reverse the color gradient (from blue to red)\n",
    "            red = int(255 * (1 - color_ratio))\n",
    "            blue = int(255 * color_ratio)\n",
    "            color = (blue, red,255 )  # RGB values for red to blue gradient\n",
    "            cv.fillPoly(img, [sq], color)\n",
    "    else:\n",
    "        # Draw background of the night\n",
    "        cv.rectangle(img, (0, 0), (width, Skyline), (0, 0, 0), -1)\n",
    "        a = moon(img)\n",
    "        # Draw Tree with gradual color change 2\n",
    "        for i, sq in enumerate(squares):\n",
    "            color_ratio = i / len(squares)\n",
    "            color = (int(255 * (1 - color_ratio)), int(255 * color_ratio), 0)\n",
    "            cv.fillPoly(img, [sq], color)\n",
    "        \n",
    "    #need lop over array of trees for tree in trees :...\n",
    "    \n",
    "    # Draw color gradient for the green gras\n",
    "    for i in range(Skyline+1, height):\n",
    "        color_ratio = (height - i) / (height-Skyline+1)#49\n",
    "        color = (\n",
    "            int(125 + color_ratio * (150 - 125)),\n",
    "            int(179 + color_ratio * (255 - 179)),\n",
    "            int(60 + color_ratio * (70 - 60))\n",
    "        )\n",
    "        img[i, :] = color   \n",
    "#     # Draw Tree with gradual color change 2\n",
    "#     for i, sq in enumerate(squares):\n",
    "#         color_ratio = i / len(squares)\n",
    "#         color = (int(255 * (1 - color_ratio)), int(255 * color_ratio), 0)\n",
    "#         cv.fillPoly(img, [sq], color)\n",
    "#         \n"
   ]
  },
  {
   "cell_type": "markdown",
   "id": "669bbd98",
   "metadata": {},
   "source": [
    "### parmaters to chos "
   ]
  },
  {
   "cell_type": "code",
   "execution_count": 7,
   "id": "33d3e599",
   "metadata": {},
   "outputs": [],
   "source": [
    "#Fixed\n",
    "width   = 1500\n",
    "height  = 1000\n",
    "\n",
    "Skyline = 361\n",
    "bigStarR= 7\n",
    "MoonSize = 55\n",
    "MoonGlow = 75\n",
    "moonCen = (340, 125)\n",
    "day = False\n",
    "# Initialize parameters for Pythagorean tree\n",
    "x2 = 1000\n",
    "side2, deep2 = 90, 10\n",
    "# Skyline = 361\n",
    "x = 300\n",
    "\n",
    "side, deep = 61, 12\n"
   ]
  },
  {
   "cell_type": "markdown",
   "id": "8c22530c",
   "metadata": {},
   "source": [
    "### make the img"
   ]
  },
  {
   "cell_type": "code",
   "execution_count": 8,
   "id": "34b6e2ee",
   "metadata": {},
   "outputs": [
    {
     "data": {
      "text/plain": [
       "200"
      ]
     },
     "execution_count": 8,
     "metadata": {},
     "output_type": "execute_result"
    }
   ],
   "source": [
    "img = gred(width,height)\n",
    "Skyline= int(img.shape[0]*0.80)#skay line is a% from img hith \n",
    "squares=tree(x, Skyline, side, deep)\n",
    "#squares2 = tree(x2, Skyline, side2, deep2)\n",
    "\n",
    "   \n",
    "#View(img,True,Skyline)\n",
    "View(img#,True\n",
    "     ,\n",
    "     Skyline=Skyline)\n",
    "int(img.shape[0]*0.2)"
   ]
  },
  {
   "cell_type": "markdown",
   "id": "489f1c1e",
   "metadata": {},
   "source": [
    "## 3.Text"
   ]
  },
  {
   "cell_type": "code",
   "execution_count": 9,
   "id": "a8a52802",
   "metadata": {
    "scrolled": false
   },
   "outputs": [
    {
     "data": {
      "text/plain": [
       "array([[[  0,   0,   0],\n",
       "        [  0,   0,   0],\n",
       "        [  0,   0,   0],\n",
       "        ...,\n",
       "        [  0,   0,   0],\n",
       "        [  0,   0,   0],\n",
       "        [  0,   0,   0]],\n",
       "\n",
       "       [[  0,   0,   0],\n",
       "        [  0,   0,   0],\n",
       "        [  0,   0,   0],\n",
       "        ...,\n",
       "        [  0,   0,   0],\n",
       "        [  0,   0,   0],\n",
       "        [  0,   0,   0]],\n",
       "\n",
       "       [[  0,   0,   0],\n",
       "        [  0,   0,   0],\n",
       "        [  0,   0,   0],\n",
       "        ...,\n",
       "        [  0,   0,   0],\n",
       "        [  0,   0,   0],\n",
       "        [  0,   0,   0]],\n",
       "\n",
       "       ...,\n",
       "\n",
       "       [[125, 180,  60],\n",
       "        [125, 180,  60],\n",
       "        [125, 180,  60],\n",
       "        ...,\n",
       "        [125, 180,  60],\n",
       "        [125, 180,  60],\n",
       "        [125, 180,  60]],\n",
       "\n",
       "       [[125, 179,  60],\n",
       "        [125, 179,  60],\n",
       "        [125, 179,  60],\n",
       "        ...,\n",
       "        [125, 179,  60],\n",
       "        [125, 179,  60],\n",
       "        [125, 179,  60]],\n",
       "\n",
       "       [[125, 179,  60],\n",
       "        [125, 179,  60],\n",
       "        [125, 179,  60],\n",
       "        ...,\n",
       "        [125, 179,  60],\n",
       "        [125, 179,  60],\n",
       "        [125, 179,  60]]], dtype=uint8)"
      ]
     },
     "execution_count": 9,
     "metadata": {},
     "output_type": "execute_result"
    }
   ],
   "source": [
    "# #text\n",
    "font=cv.FONT_HERSHEY_TRIPLEX\n",
    "cv.putText(img, \"NumPy and OpenCV Explorer\", (150,900), font, 2, (245, 255, 245), 2)\n",
    "# cv.putText(img, \" Nisan is looking for a job\", (800,100), font, 1.3, (245, 255, 245), 2)\n",
    "# #cv.putText(img, \" Python drawn with OpenCV.\", (20,370), font, 0.3, (255,255,255), 1)\n"
   ]
  },
  {
   "cell_type": "markdown",
   "id": "0457e555",
   "metadata": {},
   "source": [
    "# We will conveniently close the image window by pressing any button and we will also display the image"
   ]
  },
  {
   "cell_type": "code",
   "execution_count": 10,
   "id": "8c42723b",
   "metadata": {},
   "outputs": [],
   "source": [
    "# Show the image and close at the press of any button\n",
    "cv.imshow(\"A lonely Pythagorean tree\", img)\n",
    "cv.waitKey(0)\n",
    "cv.destroyAllWindows()"
   ]
  },
  {
   "cell_type": "markdown",
   "id": "161a9821",
   "metadata": {},
   "source": [
    "# To save img in the project file uncomment next line:\n"
   ]
  },
  {
   "cell_type": "code",
   "execution_count": 11,
   "id": "969bb34f",
   "metadata": {},
   "outputs": [
    {
     "data": {
      "text/plain": [
       "True"
      ]
     },
     "execution_count": 11,
     "metadata": {},
     "output_type": "execute_result"
    }
   ],
   "source": [
    "# cv.imwrite(\"whid Pythagorean treeb.png\", img)"
   ]
  },
  {
   "cell_type": "code",
   "execution_count": null,
   "id": "b924c2bf",
   "metadata": {},
   "outputs": [],
   "source": []
  },
  {
   "cell_type": "code",
   "execution_count": null,
   "id": "0c19fddf",
   "metadata": {},
   "outputs": [],
   "source": []
  },
  {
   "cell_type": "markdown",
   "id": "b96b4032",
   "metadata": {},
   "source": [
    "one more tree befor updating the function"
   ]
  },
  {
   "cell_type": "code",
   "execution_count": 11,
   "id": "370a66bc",
   "metadata": {},
   "outputs": [],
   "source": [
    "# Function to Creating an array of square vertices in a Pythagorean tree\n",
    "def draw_pythagorean_tree(x, y, side, fi, alfa, deep, count_deep, squares):\n",
    "    \"\"\"\n",
    "    Parameters:\n",
    "    - x, y: Coordinates of the starting point for drawing the current square.\n",
    "    - side: Length of the current square.\n",
    "    - fi: Initial angle of the current branch up is pi/2(90 degrees).\n",
    "    - alfa: Angle between the branches(pi/2 is isosceles right triangle).\n",
    "    - deep: Depth or recursion level, indicating how many more levels of branches to draw.\n",
    "    - count_deep: Counter tracking the current recursion depth.\n",
    "    - squares: A list to store the vertices of squares representing branches.\n",
    "    \"\"\"\n",
    "    \n",
    "    # Calculate the displacement along the x and y axes based on the current angle and side length\n",
    "    dx = side * np.sin(fi)\n",
    "    dy = side * np.cos(fi)\n",
    "\n",
    "    # Calculate the coordinates of the four vertices of the square representing the current branch\n",
    "    x1, y1 = x + dx, y - dy\n",
    "    x2, y2 = x + dx - dy, y - dy - dx\n",
    "    x3, y3 = x - dy, y - dx\n",
    "    x4, y4 = x - dy + side * np.cos(alfa) * np.sin(fi - alfa), y - dx - side * np.cos(alfa) * np.cos(fi - alfa)\n",
    "\n",
    "    # Store the vertices of the square in the 'squares' list\n",
    "    squares.append(np.array([[x, y], [x1, y1], [x2, y2], [x3, y3]], np.int32).reshape((-1, 1, 2)))\n",
    "\n",
    "    # If the recursion depth is greater than 1, call the function recursively for the two lower branches\n",
    "    if deep > 1:\n",
    "        draw_pythagorean_tree(x4, y4, side * np.sin(alfa), fi - alfa + np.pi / 2, alfa, deep - 1, count_deep + 1, squares)\n",
    "        draw_pythagorean_tree(x3, y3, side * np.cos(alfa), fi - alfa, alfa, deep - 1, count_deep + 1, squares)\n"
   ]
  },
  {
   "cell_type": "code",
   "execution_count": 12,
   "id": "6a06f68b",
   "metadata": {},
   "outputs": [],
   "source": [
    "squares2=[]\n",
    "\n",
    "draw_pythagorean_tree(x2 , Skyline , side2, np.pi/2 , np.pi/5 , deep2, 1, squares2)\n"
   ]
  },
  {
   "cell_type": "code",
   "execution_count": 13,
   "id": "8e672d92",
   "metadata": {},
   "outputs": [],
   "source": [
    "# Draw Tree with gradual color change\n",
    "for i, sq in enumerate(squares2):\n",
    "    color_ratio = i / len(squares2)\n",
    "    color = (int(255 * (1 - color_ratio)), int(255 * color_ratio), 0)\n",
    "    cv.fillPoly(img, [sq], color)"
   ]
  },
  {
   "cell_type": "code",
   "execution_count": 14,
   "id": "3e153545",
   "metadata": {},
   "outputs": [],
   "source": [
    "# Show the image and close at the press of any button\n",
    "cv.imshow(\"A lonely Pythagorean tree\", img)\n",
    "cv.waitKey(0)\n",
    "cv.destroyAllWindows()"
   ]
  },
  {
   "cell_type": "code",
   "execution_count": 15,
   "id": "715fe82c",
   "metadata": {},
   "outputs": [
    {
     "data": {
      "text/plain": [
       "True"
      ]
     },
     "execution_count": 15,
     "metadata": {},
     "output_type": "execute_result"
    }
   ],
   "source": [
    "cv.imwrite(\"Pythagorean treeb.png\", img)"
   ]
  },
  {
   "cell_type": "code",
   "execution_count": null,
   "id": "328df875",
   "metadata": {},
   "outputs": [],
   "source": []
  }
 ],
 "metadata": {
  "kernelspec": {
   "display_name": "Python 3 (ipykernel)",
   "language": "python",
   "name": "python3"
  },
  "language_info": {
   "codemirror_mode": {
    "name": "ipython",
    "version": 3
   },
   "file_extension": ".py",
   "mimetype": "text/x-python",
   "name": "python",
   "nbconvert_exporter": "python",
   "pygments_lexer": "ipython3",
   "version": "3.10.13"
  }
 },
 "nbformat": 4,
 "nbformat_minor": 5
}
