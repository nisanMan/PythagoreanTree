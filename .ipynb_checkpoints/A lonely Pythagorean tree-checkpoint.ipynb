{
 "cells": [
  {
   "cell_type": "markdown",
   "id": "bde764d0",
   "metadata": {},
   "source": [
    "# the libraries:"
   ]
  },
  {
   "cell_type": "code",
   "execution_count": 1,
   "id": "d07f359b",
   "metadata": {},
   "outputs": [],
   "source": [
    "import numpy as np\n",
    "import cv2 as cv"
   ]
  },
  {
   "cell_type": "markdown",
   "id": "cd343c0c",
   "metadata": {},
   "source": [
    "# Function to Creating an array of square vertices in the Pythagorean tree recursively"
   ]
  },
  {
   "cell_type": "code",
   "execution_count": 2,
   "id": "324eb0e9",
   "metadata": {},
   "outputs": [],
   "source": [
    "# Function to Creating an array of square vertices in a Pythagorean tree\n",
    "def draw_pythagorean_tree(x, y, side, fi, alfa, deep, count_deep, squares):\n",
    "    \"\"\"\n",
    "    Parameters:\n",
    "    - x, y: Coordinates of the starting point for drawing the current square.\n",
    "    - side: Length of the current square.\n",
    "    - fi: Initial angle of the current branch up is pi/2(90 degrees).\n",
    "    - alfa: Angle between the branches(pi/2 is isosceles right triangle).\n",
    "    - deep: Depth or recursion level, indicating how many more levels of branches to draw.\n",
    "    - count_deep: Counter tracking the current recursion depth.\n",
    "    - squares: A list to store the vertices of squares representing branches.\n",
    "    \"\"\"\n",
    "    # Calculate the displacement along the x and y axes based on the current angle and side length\n",
    "    dx = side * np.sin(fi)\n",
    "    dy = side * np.cos(fi)\n",
    "\n",
    "    # Calculate the coordinates of the four vertices of the square representing the current branch\n",
    "    x1, y1 = x + dx, y - dy\n",
    "    x2, y2 = x + dx - dy, y - dy - dx\n",
    "    x3, y3 = x - dy, y - dx\n",
    "    x4, y4 = x - dy + side * np.cos(alfa) * np.sin(fi - alfa), y - dx - side * np.cos(alfa) * np.cos(fi - alfa)\n",
    "\n",
    "    # Store the vertices of the square in the 'squares' list\n",
    "    squares.append(np.array([[x, y], [x1, y1], [x2, y2], [x3, y3]], np.int32).reshape((-1, 1, 2)))\n",
    "\n",
    "    # If the recursion depth is greater than 1, call the function recursively for the two lower branches\n",
    "    if deep > 1:\n",
    "        draw_pythagorean_tree(x4, y4, side * np.sin(alfa), fi - alfa + np.pi / 2, alfa, deep - 1, count_deep + 1, squares)\n",
    "        draw_pythagorean_tree(x3, y3, side * np.cos(alfa), fi - alfa, alfa, deep - 1, count_deep + 1, squares)\n"
   ]
  },
  {
   "cell_type": "markdown",
   "id": "baa021c2",
   "metadata": {},
   "source": [
    "# We will create the arrays of squares using the function we built"
   ]
  },
  {
   "cell_type": "code",
   "execution_count": 3,
   "id": "e78a1c81",
   "metadata": {},
   "outputs": [],
   "source": [
    "# Initialize parameters for Pythagorean tree\n",
    "x, y = 600, 550\n",
    "side, deep = 70, 10\n",
    "squares = []\n",
    "\n",
    "# Generate Pythagorean tree\n",
    "draw_pythagorean_tree(x , y , side, np.pi/2 , np.pi/5 , deep, 1, squares)"
   ]
  },
  {
   "cell_type": "markdown",
   "id": "3834f294",
   "metadata": {},
   "source": [
    "# Drawing using OpenCV"
   ]
  },
  {
   "cell_type": "markdown",
   "id": "8a9fbfa7",
   "metadata": {},
   "source": [
    "## 1.Determined  the size of the picture, the horizon line and the size of the moon, as well as the size of the big stars"
   ]
  },
  {
   "cell_type": "code",
   "execution_count": 4,
   "id": "a069ae2b",
   "metadata": {},
   "outputs": [],
   "source": [
    "#Fixed\n",
    "width   = 900\n",
    "height  = 600\n",
    "Skyline = 551\n",
    "bigStarR= 7\n",
    "MoonSize = 65\n",
    "MoonGlow = 85\n",
    "moonCen = (200, 150)"
   ]
  },
  {
   "cell_type": "markdown",
   "id": "9a724cdd",
   "metadata": {},
   "source": [
    "## 2.The painting:"
   ]
  },
  {
   "cell_type": "code",
   "execution_count": 5,
   "id": "d20e9ae1",
   "metadata": {},
   "outputs": [],
   "source": [
    "# Create a black image (3 for rgb bat in OpenCV bgr)\n",
    "img = np.zeros((height, width, 3), dtype=np.uint8)\n",
    "\n",
    "# Draw background of the night\n",
    "cv.rectangle(img, (0, 0), (width, Skyline), (0, 0, 0), -1)\n",
    "\n",
    "# Draw color gradient for the green gras\n",
    "for i in range(Skyline, height):\n",
    "    color_ratio = (height - i) / 49\n",
    "    color = (\n",
    "        int(125 + color_ratio * (150 - 125)),\n",
    "        int(179 + color_ratio * (255 - 179)),\n",
    "        int(60 + color_ratio * (70 - 60))\n",
    "    )\n",
    "    img[i, :] = color\n",
    "\n",
    "# Draw random stars\n",
    "for i in range(7):\n",
    "    star_x = np.random.randint(0, width, size=50)\n",
    "    star_y = np.random.randint(0, Skyline, size=50)\n",
    "    img[star_y, star_x] = (255-i, 255-2*i, 255-1.5*i)\n",
    "\n",
    "# Draw the Moon glow\n",
    "for r in range(MoonGlow, MoonGlow-30, -1):  # Radius for the halo\n",
    "    color_ratio = (MoonGlow - r) / 30  # Interpolate from white to black\n",
    "    color = (\n",
    "        int(color_ratio * 255),  \n",
    "        int(color_ratio * 255),  \n",
    "        int(color_ratio * 255)   \n",
    "    )\n",
    "    cv.circle(img, moonCen, r, color, -1)\n",
    "# Draw the Moon\n",
    "cv.circle(img, moonCen, MoonSize, (255, 255, 255), -1)\n",
    "cv.circle(img, moonCen, MoonSize-10, (245, 255, 255), -1)\n",
    "\n",
    "# Draw Tree with gradual color change\n",
    "for i, sq in enumerate(squares):\n",
    "    color_ratio = i / len(squares)\n",
    "    color = (int(255 * (1 - color_ratio)), int(255 * color_ratio), 0)\n",
    "    cv.fillPoly(img, [sq], color)\n",
    "\n",
    "# big stars\n",
    "for center, num in [((760, 79), bigStarR), ((845, 240), bigStarR), ((15, 13), bigStarR)]:\n",
    "    for r in range(11, 4, -1):\n",
    "        color_ratio = (11 - r) / bigStarR\n",
    "        color = (int(color_ratio * 255), int(color_ratio * 255), int(color_ratio * 255))\n",
    "        cv.circle(img, center, num, color, -1)\n",
    "        num -= 1\n"
   ]
  },
  {
   "cell_type": "markdown",
   "id": "489f1c1e",
   "metadata": {},
   "source": [
    "## 3.Text"
   ]
  },
  {
   "cell_type": "code",
   "execution_count": 6,
   "id": "a8a52802",
   "metadata": {
    "scrolled": false
   },
   "outputs": [],
   "source": [
    "#text\n",
    "font=cv.FONT_HERSHEY_TRIPLEX\n",
    "cv.putText(img, \"A lonely Pythagorean tree named \", (120,50), font, 1.3, (245, 255, 245), 2)\n",
    "cv.putText(img, \" Nisan is looking for a job\", (275,100), font, 1.3, (245, 255, 245), 2)\n",
    "cv.putText(img, \" Python drawn with OpenCV.\", (20,580), font, 0.7, (255,255,255), 1);"
   ]
  },
  {
   "cell_type": "markdown",
   "id": "0457e555",
   "metadata": {},
   "source": [
    "# We will conveniently close the image window by pressing any button and we will also display the image"
   ]
  },
  {
   "cell_type": "code",
   "execution_count": 7,
   "id": "8c42723b",
   "metadata": {},
   "outputs": [],
   "source": [
    "# Show the image and close at the press of any button\n",
    "cv.imshow(\"A lonely Pythagorean tree named Nissan is looking for a job\", img)\n",
    "cv.waitKey(0)\n",
    "cv.destroyAllWindows()"
   ]
  },
  {
   "cell_type": "markdown",
   "id": "161a9821",
   "metadata": {},
   "source": [
    "# To save img in the project file uncomment next line:\n"
   ]
  },
  {
   "cell_type": "code",
   "execution_count": 8,
   "id": "ca1534ea",
   "metadata": {},
   "outputs": [
    {
     "data": {
      "text/plain": [
       "True"
      ]
     },
     "execution_count": 8,
     "metadata": {},
     "output_type": "execute_result"
    }
   ],
   "source": [
    "#cv.imwrite(\"A lonely Pythagorean tree named Nissan is looking for a job.png\", img)"
   ]
  },
  {
   "cell_type": "code",
   "execution_count": null,
   "id": "969bb34f",
   "metadata": {},
   "outputs": [],
   "source": []
  }
 ],
 "metadata": {
  "kernelspec": {
   "display_name": "Python 3 (ipykernel)",
   "language": "python",
   "name": "python3"
  },
  "language_info": {
   "codemirror_mode": {
    "name": "ipython",
    "version": 3
   },
   "file_extension": ".py",
   "mimetype": "text/x-python",
   "name": "python",
   "nbconvert_exporter": "python",
   "pygments_lexer": "ipython3",
   "version": "3.10.13"
  }
 },
 "nbformat": 4,
 "nbformat_minor": 5
}
